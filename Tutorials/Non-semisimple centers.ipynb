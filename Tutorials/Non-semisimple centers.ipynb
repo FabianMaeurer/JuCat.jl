{
 "cells": [
  {
   "cell_type": "markdown",
   "metadata": {},
   "source": [
    "# Non-Semisimple Center     \n",
    "\n",
    "Let $\\mathcal C$ be a fusion category such that $\\dim \\mathcal C = 0$. Then the algorithm to compute the simples in the center still works.\n",
    "\n",
    "Let's consider the category of $S_3$-graded vector spaces over $\\mathbb F_3$."
   ]
  },
  {
   "cell_type": "code",
   "execution_count": 1,
   "metadata": {},
   "outputs": [
    {
     "name": "stdout",
     "output_type": "stream",
     "text": [
      "\r"
     ]
    },
    {
     "name": "stderr",
     "output_type": "stream",
     "text": [
      "WARNING: Method definition number_of_generators(AbstractAlgebra.PolyRing{T} where T) in module AbstractAlgebra at /Users/maeurer/.julia/packages/AbstractAlgebra/wVuNz/src/Poly.jl:201 overwritten in module Oscar at /Users/maeurer/.julia/packages/Oscar/59YCS/src/Rings/mpoly-affine-algebras.jl:241.\n",
      "ERROR: Method overwriting is not permitted during Module precompilation. Use `__precompile__(false)` to opt-out of precompilation.\n"
     ]
    },
    {
     "name": "stdout",
     "output_type": "stream",
     "text": [
      "\r"
     ]
    },
    {
     "name": "stderr",
     "output_type": "stream",
     "text": [
      "WARNING: Method definition number_of_generators(AbstractAlgebra.PolyRing{T} where T) in module AbstractAlgebra at /Users/maeurer/.julia/packages/AbstractAlgebra/wVuNz/src/Poly.jl:201 overwritten in module Oscar at /Users/maeurer/.julia/packages/Oscar/59YCS/src/Rings/mpoly-affine-algebras.jl:241.\n",
      "ERROR: Method overwriting is not permitted during Module precompilation. Use `__precompile__(false)` to opt-out of precompilation.\n"
     ]
    },
    {
     "name": "stdout",
     "output_type": "stream",
     "text": [
      "dim(V) = 0\n"
     ]
    },
    {
     "data": {
      "text/plain": [
       "5-element Vector{CenterObject}:\n",
       " Central object: Graded vector space of dimension 1 with grading\n",
       "PermGroupElem[()]\n",
       " Central object: Graded vector space of dimension 1 with grading\n",
       "PermGroupElem[()]\n",
       " Central object: Graded vector space of dimension 3 with grading\n",
       "PermGroupElem[(2,3), (1,2), (1,3)]\n",
       " Central object: Graded vector space of dimension 3 with grading\n",
       "PermGroupElem[(2,3), (1,2), (1,3)]\n",
       " Central object: Graded vector space of dimension 2 with grading\n",
       "PermGroupElem[(1,3,2), (1,2,3)]"
      ]
     },
     "metadata": {},
     "output_type": "display_data"
    }
   ],
   "source": [
    "using TensorCategories, Oscar\n",
    "\n",
    "G = symmetric_group(3)\n",
    "\n",
    "V = graded_vector_spaces(GF(3), G)\n",
    "\n",
    "@show dim(V)\n",
    "\n",
    "Z = center(V)\n",
    "\n",
    "simples(Z)"
   ]
  },
  {
   "cell_type": "markdown",
   "metadata": {},
   "source": [
    "We can see that there are less simples than in the semisimple case. This is due to the fact, that $I(X_i)$ is no longer semisimple."
   ]
  },
  {
   "cell_type": "code",
   "execution_count": 4,
   "metadata": {},
   "outputs": [
    {
     "data": {
      "text/plain": [
       "false"
      ]
     },
     "metadata": {},
     "output_type": "display_data"
    }
   ],
   "source": [
    "is_semisimple(endomorphism_ring(induction(V[1])))"
   ]
  },
  {
   "cell_type": "code",
   "execution_count": null,
   "metadata": {},
   "outputs": [],
   "source": []
  }
 ],
 "metadata": {
  "kernelspec": {
   "display_name": "Julia 1.10.2",
   "language": "julia",
   "name": "julia-1.10"
  },
  "language_info": {
   "file_extension": ".jl",
   "mimetype": "application/julia",
   "name": "julia",
   "version": "1.10.2"
  }
 },
 "nbformat": 4,
 "nbformat_minor": 2
}

{
 "cells": [
  {
   "cell_type": "markdown",
   "metadata": {},
   "source": [
    "# Computing Centers of Fusion Categories in Julia\n",
    "\n",
    "Here we want to demonstrate how to compute the center of a fusion category by examining the example where $\\mathcal C$ is the category of $G$-graded vector spaces over $\\overline{\\mathbb Q}$.\n",
    "\n",
    "As a simple example we choose the symmetric group on three elements $G = S_3$. "
   ]
  },
  {
   "cell_type": "code",
   "execution_count": 1,
   "metadata": {},
   "outputs": [
    {
     "name": "stdout",
     "output_type": "stream",
     "text": [
      "\r"
     ]
    },
    {
     "data": {
      "text/plain": [
       "Category of G-graded vector spaces over Field of algebraic numbers where G is Sym( [ 1 .. 3 ] )"
      ]
     },
     "metadata": {},
     "output_type": "display_data"
    }
   ],
   "source": [
    "using TensorCategories, Oscar\n",
    "\n",
    "G = symmetric_group(3)\n",
    "𝒞 = graded_vector_spaces(G)"
   ]
  },
  {
   "cell_type": "markdown",
   "metadata": {},
   "source": [
    "To compute objects in the center we can either do it by simple constructing an instance of the center"
   ]
  },
  {
   "cell_type": "code",
   "execution_count": 2,
   "metadata": {},
   "outputs": [
    {
     "data": {
      "text/plain": [
       "Drinfeld center of Category of G-graded vector spaces over Field of algebraic numbers where G is Sym( [ 1 .. 3 ] )"
      ]
     },
     "metadata": {},
     "output_type": "display_data"
    }
   ],
   "source": [
    "𝒵 = center(𝒞)"
   ]
  },
  {
   "cell_type": "markdown",
   "metadata": {},
   "source": [
    "This is a surprisingly fast line, because no computations are performed yet. The structure of the center is entirely given by the simple objects so that is what we compute now. "
   ]
  },
  {
   "cell_type": "code",
   "execution_count": 3,
   "metadata": {},
   "outputs": [],
   "source": [
    "S = simples(𝒵)\n"
   ]
  },
  {
   "cell_type": "markdown",
   "metadata": {},
   "source": [
    "From here we can examine the category $\\mathcal Z(\\mathcal C)$ in a way that most abstracts approaches do not allow. For example we can examine the half braidings explicitly, since they are given as matrices. Here the half braiding $S_1 \\otimes \\delta_{(1,2,3)} \\to \\delta_{(1,2,3)} \\otimes S_i$."
   ]
  },
  {
   "cell_type": "code",
   "execution_count": null,
   "metadata": {},
   "outputs": [],
   "source": [
    "matrix(half_braiding(S[1])[5])\n"
   ]
  },
  {
   "cell_type": "markdown",
   "metadata": {},
   "source": [
    "An other computable constant is the (normalized) $S$-matrix. "
   ]
  },
  {
   "cell_type": "code",
   "execution_count": null,
   "metadata": {},
   "outputs": [],
   "source": [
    "normalized_smatrix(𝒵)"
   ]
  },
  {
   "cell_type": "code",
   "execution_count": null,
   "metadata": {},
   "outputs": [],
   "source": []
  }
 ],
 "metadata": {
  "kernelspec": {
   "display_name": "Julia 1.8.2",
   "language": "julia",
   "name": "julia-1.8"
  },
  "language_info": {
   "file_extension": ".jl",
   "mimetype": "application/julia",
   "name": "julia",
   "version": "1.8.2"
  }
 },
 "nbformat": 4,
 "nbformat_minor": 2
}

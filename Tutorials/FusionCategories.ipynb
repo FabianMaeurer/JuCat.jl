{
 "cells": [
  {
   "cell_type": "markdown",
   "metadata": {},
   "source": [
    "# Fusion Categories in Julia\n",
    "\n",
    "TensorCategories.jl aims to provide a framework for explicit computations with tensor categories. I.e. we work with constructive models of tensor categories or also finitary categories. Most categories are modelled by providing objects and morphisms in any pleasant form. Most of the time this means morphisms are in some way given by matrices or families of matrices. \n",
    "\n",
    "## Graded Vector Spaces\n",
    "\n",
    "A great starting example is the category of $G$-graded vector spaces $\\mathrm{Vec}_G$. The category is modelled by objects given as tuples $V = (g_1,...,g_n)$ where the $g_i \\in G$ are the gradings of the basis vectors. Therefore morphisms are encoded as matrices that obey the grading gifting us composition as matrix multiplication."
   ]
  },
  {
   "cell_type": "code",
   "execution_count": 1,
   "metadata": {},
   "outputs": [
    {
     "name": "stdout",
     "output_type": "stream",
     "text": [
      "C[1] ⊕ C[2] = Graded vector space of dimension 2 with grading\n",
      "PermGroupElem[(), (2,3)]\n",
      "Graded vector space of dimension 3 with grading\n",
      "PermGroupElem[(1,2), (1,2), (2,3)]"
     ]
    }
   ],
   "source": [
    "using TensorCategories, Oscar \n",
    "\n",
    "G = symmetric_group(3)\n",
    "\n",
    "C = graded_vector_spaces(QQ,G)\n",
    "\n",
    "@show (C[1]⊕C[2])\n",
    "\n",
    "print((C[2]^2 ⊕ C[3]) ⊗ C[4])"
   ]
  },
  {
   "cell_type": "markdown",
   "metadata": {},
   "source": [
    "## Group Representations\n",
    "\n",
    "Group representations are another great example. We use the MeatAxe functionality of GAP wrapped in our framework."
   ]
  },
  {
   "cell_type": "code",
   "execution_count": 5,
   "metadata": {},
   "outputs": [
    {
     "name": "stdout",
     "output_type": "stream",
     "text": [
      "simples(Rep) = GroupRepresentation[1-dimensional group representation over Prime field of characteristic 7 of Sym(3)), 1-dimensional group representation over Prime field of characteristic 7 of Sym(3)), 2-dimensional group representation over Prime field of characteristic 7 of Sym(3))]\n",
      "Hom(Rep[2] ⊗ Rep[3], Rep[3]) = Vector space of dimension 1 over Prime field of characteristic 7.\n"
     ]
    },
    {
     "data": {
      "text/plain": [
       "3×3 Matrix{String}:\n",
       " \"X1\"  \"X2\"  \"X3\"\n",
       " \"X2\"  \"X1\"  \"X3\"\n",
       " \"X3\"  \"X3\"  \"X1 ⊕ X2 ⊕ X3\""
      ]
     },
     "metadata": {},
     "output_type": "display_data"
    }
   ],
   "source": [
    "Rep = representation_category(GF(7),G)\n",
    "\n",
    "@show simples(Rep)\n",
    "\n",
    "@show Hom(Rep[2]⊗Rep[3], Rep[3])\n",
    "\n",
    "print_multiplication_table(Rep)"
   ]
  },
  {
   "cell_type": "code",
   "execution_count": null,
   "metadata": {},
   "outputs": [],
   "source": []
  }
 ],
 "metadata": {
  "kernelspec": {
   "display_name": "Julia 1.10.0",
   "language": "julia",
   "name": "julia-1.10"
  },
  "language_info": {
   "file_extension": ".jl",
   "mimetype": "application/julia",
   "name": "julia",
   "version": "1.10.0"
  }
 },
 "nbformat": 4,
 "nbformat_minor": 2
}

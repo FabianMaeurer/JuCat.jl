{
 "cells": [
  {
   "cell_type": "markdown",
   "metadata": {},
   "source": [
    "# Drinfeld Centralizers\n",
    "\n",
    "Analogously to the center construction on can construct the centralizer $ \\mathcal Z(\\mathcal C \\colon \\mathcal D) $ of a tensor category $\\mathcal C$ with respect to a tensor subcategory $\\mathcal D$.\n",
    "\n",
    "We consider the example where $\\mathcal C = \\mathrm{Vec}_{S_3}$ and $\\mathcal D = \\langle \\delta_{(1,2)}\\rangle$."
   ]
  },
  {
   "cell_type": "code",
   "execution_count": 3,
   "metadata": {},
   "outputs": [
    {
     "data": {
      "text/plain": [
       "6-element Vector{TensorCategories.CentralizerObject}:\n",
       " Central object: Graded vector space of dimension 1 with grading\n",
       "PermGroupElem[()]\n",
       " Central object: Graded vector space of dimension 1 with grading\n",
       "PermGroupElem[()]\n",
       " Central object: Graded vector space of dimension 1 with grading\n",
       "PermGroupElem[(2,3)]\n",
       " Central object: Graded vector space of dimension 1 with grading\n",
       "PermGroupElem[(2,3)]\n",
       " Central object: Graded vector space of dimension 2 with grading\n",
       "PermGroupElem[(1,3), (1,2)]\n",
       " Central object: Graded vector space of dimension 2 with grading\n",
       "PermGroupElem[(1,3,2), (1,2,3)]"
      ]
     },
     "metadata": {},
     "output_type": "display_data"
    }
   ],
   "source": [
    "using TensorCategories, Oscar;\n",
    "\n",
    "G = symmetric_group(3)\n",
    "\n",
    "V = graded_vector_spaces(QQ,G)\n",
    "\n",
    "Z = centralizer(V, V[2])\n",
    "\n",
    "simples(Z)"
   ]
  },
  {
   "cell_type": "markdown",
   "metadata": {},
   "source": [
    "We can see that the dimension formula $\\dim \\mathcal Z(\\mathcal C \\colon \\mathcal D) = \\dim \\mathcal C \\cdot \\dim \\mathcal D$ is satisfied "
   ]
  },
  {
   "cell_type": "code",
   "execution_count": 2,
   "metadata": {},
   "outputs": [
    {
     "name": "stdout",
     "output_type": "stream",
     "text": [
      "dim(V) = 6\n",
      "dim(Z) = 12\n"
     ]
    },
    {
     "data": {
      "text/html": [
       "12"
      ],
      "text/latex": [
       "12"
      ],
      "text/plain": [
       "12"
      ]
     },
     "metadata": {},
     "output_type": "display_data"
    }
   ],
   "source": [
    "@show dim(V)\n",
    "@show dim(Z)"
   ]
  },
  {
   "cell_type": "code",
   "execution_count": 3,
   "metadata": {},
   "outputs": [],
   "source": []
  }
 ],
 "metadata": {
  "kernelspec": {
   "display_name": "Julia 1.10.2",
   "language": "julia",
   "name": "julia-1.10"
  },
  "language_info": {
   "file_extension": ".jl",
   "mimetype": "application/julia",
   "name": "julia",
   "version": "1.10.2"
  }
 },
 "nbformat": 4,
 "nbformat_minor": 2
}
